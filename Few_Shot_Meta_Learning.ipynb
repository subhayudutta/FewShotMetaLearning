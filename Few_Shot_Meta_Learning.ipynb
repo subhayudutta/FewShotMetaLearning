{
  "cells": [
    {
      "cell_type": "markdown",
      "id": "c2541310",
      "metadata": {
        "id": "c2541310"
      },
      "source": [
        "**Transfer Learning**"
      ]
    },
    {
      "cell_type": "code",
      "execution_count": null,
      "id": "66fa5ffc",
      "metadata": {
        "id": "66fa5ffc"
      },
      "outputs": [],
      "source": [
        "import os\n",
        "import numpy as np\n",
        "from tensorflow.keras.preprocessing.image import ImageDataGenerator\n",
        "from tensorflow.keras.utils import to_categorical\n",
        "import tensorflow as tf\n",
        "from tensorflow.keras.applications import VGG16\n",
        "from tensorflow.keras.models import Model\n",
        "from tensorflow.keras.layers import Dense, GlobalAveragePooling2D\n",
        "from tensorflow.keras.layers import Input, Lambda, Dense, Flatten\n",
        "from tensorflow.keras.models import Model\n",
        "from tensorflow.keras.applications.resnet50 import ResNet50\n",
        "from tensorflow.keras.applications.resnet50 import preprocess_input\n",
        "from tensorflow.keras.preprocessing import image\n",
        "from tensorflow.keras.preprocessing.image import ImageDataGenerator,load_img\n",
        "from tensorflow.keras.models import Sequential\n",
        "import numpy as np\n",
        "from glob import glob\n",
        "import matplotlib.pyplot as plt\n"
      ]
    },
    {
      "cell_type": "code",
      "execution_count": null,
      "id": "afdb76dc",
      "metadata": {
        "id": "afdb76dc"
      },
      "outputs": [],
      "source": [
        "train_data_dir = 'C:/Users/subhayu/Desktop/Few Shot Learning/fewShot(ShoeScandalBoot)/Train'\n",
        "test_data_dir = 'C:/Users/subhayu/Desktop/Few Shot Learning/fewShot(ShoeScandalBoot)/Test'\n",
        "\n",
        "img_width, img_height = 128,128"
      ]
    },
    {
      "cell_type": "code",
      "execution_count": null,
      "id": "97d6ac9c",
      "metadata": {
        "id": "97d6ac9c"
      },
      "outputs": [],
      "source": [
        "train_datagen = ImageDataGenerator(rescale=1.0/255,\n",
        "                                   shear_range=0.2,\n",
        "                                   zoom_range=0.2,\n",
        "                                   horizontal_flip=True)\n",
        "\n",
        "test_datagen = ImageDataGenerator(rescale=1.0/255)\n",
        "\n",
        "train_generator = train_datagen.flow_from_directory(train_data_dir,\n",
        "                                                    target_size=(img_width, img_height),\n",
        "                                                    batch_size=32,\n",
        "                                                    class_mode='categorical')\n",
        "\n",
        "test_generator = test_datagen.flow_from_directory(test_data_dir,\n",
        "                                                  target_size=(img_width, img_height),\n",
        "                                                  batch_size=32,\n",
        "                                                  class_mode='categorical')\n",
        "\n",
        "num_classes = 3\n",
        "\n",
        "train_labels = to_categorical(train_generator.classes, num_classes)\n",
        "test_labels = to_categorical(test_generator.classes, num_classes)"
      ]
    },
    {
      "cell_type": "code",
      "execution_count": null,
      "id": "65a5442e",
      "metadata": {
        "id": "65a5442e"
      },
      "outputs": [],
      "source": [
        "base_model = ResNet50(weights='imagenet', include_top=False, input_shape=(224, 224, 3))\n",
        "\n",
        "x = base_model.output\n",
        "x = GlobalAveragePooling2D()(x)\n",
        "x = Dense(1024, activation='relu')(x)\n",
        "predictions = Dense(3, activation='softmax')(x)\n",
        "\n",
        "model = Model(inputs=base_model.input, outputs=predictions)\n",
        "\n",
        "for layer in base_model.layers:\n",
        "    layer.trainable = False\n",
        "\n",
        "model.compile(optimizer='adam', loss='categorical_crossentropy', metrics=['accuracy'])"
      ]
    },
    {
      "cell_type": "code",
      "execution_count": null,
      "id": "d780ed44",
      "metadata": {
        "scrolled": true,
        "id": "d780ed44"
      },
      "outputs": [],
      "source": [
        "curr = time.time()\n",
        "model.fit(train_generator,\n",
        "          steps_per_epoch=len(train_generator),\n",
        "          epochs=50,\n",
        "          validation_data=test_generator,\n",
        "          validation_steps=len(test_generator))\n",
        "stop=time.time()\n",
        "print(\"time is\",stop-curr)"
      ]
    },
    {
      "cell_type": "code",
      "execution_count": null,
      "id": "d8ca8f65",
      "metadata": {
        "id": "d8ca8f65"
      },
      "outputs": [],
      "source": [
        "from sklearn.metrics import classification_report\n",
        "\n",
        "y_pred = model.predict(test_generator)\n",
        "y_pred_classes = np.argmax(y_pred, axis=1)\n",
        "\n",
        "y_true_classes = test_generator.classes\n",
        "\n",
        "report = classification_report(y_true_classes, y_pred_classes, target_names=test_generator.class_indices)\n",
        "\n",
        "accuracy = np.mean(y_pred_classes == y_true_classes)\n",
        "print(f\"Accuracy: {accuracy*100:.2f}%\")\n",
        "\n",
        "print(\"Classification Report:\")\n",
        "print(report)"
      ]
    },
    {
      "cell_type": "code",
      "execution_count": null,
      "id": "8813b01e",
      "metadata": {
        "id": "8813b01e"
      },
      "outputs": [],
      "source": []
    },
    {
      "cell_type": "code",
      "execution_count": null,
      "id": "420f4a79",
      "metadata": {
        "id": "420f4a79"
      },
      "outputs": [],
      "source": []
    },
    {
      "cell_type": "markdown",
      "id": "9db33648",
      "metadata": {
        "id": "9db33648"
      },
      "source": [
        "**Meta Learning (Few Shot Learning Code)**"
      ]
    },
    {
      "cell_type": "code",
      "execution_count": null,
      "id": "efcb9bd1",
      "metadata": {
        "id": "efcb9bd1"
      },
      "outputs": [],
      "source": [
        "import tensorflow as tf\n",
        "from tensorflow.keras import layers, models, optimizers\n",
        "import os\n",
        "import matplotlib.pyplot as plt\n",
        "import numpy as np\n",
        "import time\n",
        "\n",
        "train_data_dir = 'C:/Users/subhayu/Desktop/Few Shot Learning/fewShot(Chest Xray)/Train'\n",
        "test_data_dir = 'C:/Users/subhayu/Desktop/Few Shot Learning/fewShot(Chest Xray)/Test'"
      ]
    },
    {
      "cell_type": "code",
      "execution_count": null,
      "id": "408f8180",
      "metadata": {
        "id": "408f8180"
      },
      "outputs": [],
      "source": [
        "num_classes=2\n",
        "learning_rate = 0.003\n",
        "meta_step_size = 0.25\n",
        "\n",
        "inner_batch_size = 25\n",
        "eval_batch_size = 25\n",
        "\n",
        "meta_iters = 2000\n",
        "eval_iters = 5\n",
        "inner_iters = 4\n",
        "\n",
        "eval_interval = 1\n",
        "train_shots = 20\n",
        "shots = 5\n",
        "\n",
        "classes = num_classes\n",
        "img_height, img_width = 28, 28"
      ]
    },
    {
      "cell_type": "code",
      "execution_count": null,
      "id": "0822d689",
      "metadata": {
        "id": "0822d689"
      },
      "outputs": [],
      "source": [
        "train_datagen = tf.keras.preprocessing.image.ImageDataGenerator(\n",
        "    rescale=1./255,\n",
        ")\n",
        "\n",
        "train_generator = train_datagen.flow_from_directory(\n",
        "    train_data_dir,\n",
        "    target_size=(img_height, img_width),\n",
        "    batch_size=32,\n",
        "    class_mode='categorical',\n",
        "    shuffle=True\n",
        ")"
      ]
    },
    {
      "cell_type": "code",
      "execution_count": null,
      "id": "e64dae9a",
      "metadata": {
        "id": "e64dae9a"
      },
      "outputs": [],
      "source": [
        "def conv_bn(x):\n",
        "    x = layers.Conv2D(filters=64, kernel_size=3, strides=2, padding=\"same\")(x)\n",
        "    x = layers.BatchNormalization()(x)\n",
        "    return layers.ReLU()(x)\n",
        "\n",
        "def build_prototypical_net(input_shape, num_classes):\n",
        "    inputs = layers.Input(input_shape)\n",
        "    x = conv_bn(inputs)\n",
        "    x = conv_bn(x)\n",
        "    x = conv_bn(x)\n",
        "    x = conv_bn(x)\n",
        "    x = layers.Flatten()(x)\n",
        "    outputs = layers.Dense(num_classes, activation=\"softmax\")(x)\n",
        "    return models.Model(inputs, outputs)\n",
        "\n",
        "model = build_prototypical_net((img_height, img_width, 3), num_classes)\n",
        "\n",
        "learning_rate = 0.001\n",
        "optimizer = optimizers.SGD(learning_rate=learning_rate)\n",
        "model.compile(optimizer=optimizer,\n",
        "              loss='categorical_crossentropy',\n",
        "              metrics=['accuracy'])"
      ]
    },
    {
      "cell_type": "code",
      "execution_count": null,
      "id": "10d8efe6",
      "metadata": {
        "scrolled": false,
        "id": "10d8efe6"
      },
      "outputs": [],
      "source": [
        "training = []\n",
        "testing = []\n",
        "\n",
        "curr = time.time()\n",
        "for meta_iter in range(meta_iters):\n",
        "    frac_done = meta_iter / meta_iters\n",
        "    cur_meta_step_size = (1 - frac_done) * meta_step_size\n",
        "    old_vars = model.get_weights()\n",
        "    mini_dataset = iter(train_generator)\n",
        "    for i in range(inner_iters):\n",
        "        images, labels = next(mini_dataset)\n",
        "        with tf.GradientTape() as tape:\n",
        "            preds = model(images)\n",
        "            loss = tf.keras.losses.categorical_crossentropy(labels, preds)\n",
        "        grads = tape.gradient(loss, model.trainable_weights)\n",
        "        optimizer.apply_gradients(zip(grads, model.trainable_weights))\n",
        "    new_vars = model.get_weights()\n",
        "    for var in range(len(new_vars)):\n",
        "        new_vars[var] = old_vars[var] + ((new_vars[var] - old_vars[var]) * cur_meta_step_size)\n",
        "    model.set_weights(new_vars)\n",
        "    if meta_iter % eval_interval == 0:\n",
        "        accuracies = []\n",
        "        for dataset in (train_data_dir, test_data_dir):\n",
        "            data_gen = tf.keras.preprocessing.image.ImageDataGenerator(rescale=1./255)\n",
        "            dataset = data_gen.flow_from_directory(\n",
        "                dataset,\n",
        "                target_size=(img_height, img_width),\n",
        "                batch_size=eval_batch_size,\n",
        "                class_mode='categorical',\n",
        "                shuffle=False\n",
        "            )\n",
        "            images, labels = next(dataset)\n",
        "            old_vars = model.get_weights()\n",
        "            for i in range(inner_iters):\n",
        "                with tf.GradientTape() as tape:\n",
        "                    preds = model(images)\n",
        "                    loss = tf.keras.losses.categorical_crossentropy(labels, preds)\n",
        "                grads = tape.gradient(loss, model.trainable_weights)\n",
        "                optimizer.apply_gradients(zip(grads, model.trainable_weights))\n",
        "            test_preds = model.predict(images)\n",
        "            test_preds = tf.argmax(test_preds, axis=1).numpy()\n",
        "            num_correct = (test_preds == tf.argmax(labels, axis=1).numpy()).sum()\n",
        "            model.set_weights(old_vars)\n",
        "            accuracies.append(num_correct / eval_batch_size)\n",
        "        training.append(accuracies[0])\n",
        "        testing.append(accuracies[1])\n",
        "        if meta_iter % 100 == 0:\n",
        "            print(\"batch %d: train=%f test=%f\" % (meta_iter, accuracies[0], accuracies[1]))\n",
        "\n",
        "stop=time.time()\n",
        "test_accuracy = testing[-1]\n",
        "print(f'Final Test accuracy: {test_accuracy * 100:.2f}%')\n",
        "print(f'Final Time : {stop-curr}')"
      ]
    },
    {
      "cell_type": "code",
      "execution_count": null,
      "id": "2e5ae3de",
      "metadata": {
        "scrolled": true,
        "id": "2e5ae3de"
      },
      "outputs": [],
      "source": [
        "import numpy as np\n",
        "import matplotlib.pyplot as plt\n",
        "from sklearn.metrics import accuracy_score, precision_score, recall_score, f1_score\n",
        "\n",
        "test_data_gen = tf.keras.preprocessing.image.ImageDataGenerator(rescale=1./255)\n",
        "test_generator = test_data_gen.flow_from_directory(\n",
        "    test_data_dir,\n",
        "    target_size=(img_height, img_width),\n",
        "    batch_size=32,\n",
        "    class_mode='categorical',\n",
        "    shuffle=False\n",
        ")\n",
        "\n",
        "true_labels = test_generator.classes\n",
        "predictions = model.predict(test_generator)\n",
        "predicted_labels = np.argmax(predictions, axis=1)\n",
        "\n",
        "precision = precision_score(true_labels, predicted_labels, average='macro')\n",
        "recall = recall_score(true_labels, predicted_labels, average='macro')\n",
        "f1 = f1_score(true_labels, predicted_labels, average='macro')\n",
        "\n",
        "f1=2 * ((precision * recall) / (precision + recall))\n",
        "\n",
        "print(f'Final Precision: {precision}')\n",
        "print(f'Final Recall: {recall}')\n",
        "print(f'Final F1-score: {f1}')"
      ]
    },
    {
      "cell_type": "code",
      "execution_count": null,
      "id": "ed6271b2",
      "metadata": {
        "id": "ed6271b2"
      },
      "outputs": [],
      "source": [
        "window_length = 100\n",
        "train_s3 = np.r_[training[window_length - 1:0:-1], training, training[-1:-window_length:-1]]\n",
        "test_s3 = np.r_[testing[window_length - 1:0:-1], testing, testing[-1:-window_length:-1]]\n",
        "w = np.hamming(window_length)\n",
        "train_y3 = np.convolve(w / w.sum(), train_s3, mode=\"valid\")\n",
        "test_y3 = np.convolve(w / w.sum(), test_s3, mode=\"valid\")\n",
        "x3 = np.arange(0, len(test_y3), 1)\n",
        "plt.plot(x3,train_y3,x3,test_y3)\n",
        "plt.legend([\"test\", \"train\"])\n",
        "plt.grid()\n",
        "plt.xlabel(\"Meta-iterations\")\n",
        "plt.ylabel(\"Accuracy\")\n",
        "plt.title(\"Moving Average Accuracy\")\n",
        "plt.show()"
      ]
    },
    {
      "cell_type": "code",
      "source": [],
      "metadata": {
        "id": "HXjvSlnDJpFt"
      },
      "id": "HXjvSlnDJpFt",
      "execution_count": null,
      "outputs": []
    },
    {
      "cell_type": "code",
      "source": [],
      "metadata": {
        "id": "xR58GSinJpIL"
      },
      "id": "xR58GSinJpIL",
      "execution_count": null,
      "outputs": []
    },
    {
      "cell_type": "markdown",
      "id": "7f95bba6",
      "metadata": {
        "id": "7f95bba6"
      },
      "source": [
        "**Basic CNN Model**"
      ]
    },
    {
      "cell_type": "code",
      "execution_count": null,
      "id": "6480e492",
      "metadata": {
        "id": "6480e492"
      },
      "outputs": [],
      "source": [
        "import numpy as np\n",
        "import tensorflow as tf\n",
        "from tensorflow.keras.models import Sequential\n",
        "from tensorflow.keras.layers import Conv2D, MaxPooling2D, Flatten, Dense\n",
        "from tensorflow.keras.optimizers import Adam\n",
        "from tensorflow.keras.metrics import Precision, Recall\n",
        "from sklearn.metrics import classification_report"
      ]
    },
    {
      "cell_type": "code",
      "execution_count": null,
      "id": "ecdafb9c",
      "metadata": {
        "id": "ecdafb9c"
      },
      "outputs": [],
      "source": [
        "train_data_dir = 'C:/Users/subhayu/Desktop/Few Shot Learning/fewShot(ShoeScandalBoot)/Train'\n",
        "test_data_dir = 'C:/Users/subhayu/Desktop/Few Shot Learning/fewShot(ShoeScandalBoot)/Test'\n",
        "\n",
        "img_width, img_height = 128,128"
      ]
    },
    {
      "cell_type": "code",
      "execution_count": null,
      "id": "3c1dec92",
      "metadata": {
        "id": "3c1dec92"
      },
      "outputs": [],
      "source": [
        "train_datagen = ImageDataGenerator(rescale=1.0/255,\n",
        "                                   shear_range=0.2,\n",
        "                                   zoom_range=0.2,\n",
        "                                   horizontal_flip=True)\n",
        "\n",
        "test_datagen = ImageDataGenerator(rescale=1.0/255)\n",
        "\n",
        "train_generator = train_datagen.flow_from_directory(train_data_dir,\n",
        "                                                    target_size=(img_width, img_height),\n",
        "                                                    batch_size=32,\n",
        "                                                    class_mode='categorical')\n",
        "\n",
        "test_generator = test_datagen.flow_from_directory(test_data_dir,\n",
        "                                                  target_size=(img_width, img_height),\n",
        "                                                  batch_size=32,\n",
        "                                                  class_mode='categorical')\n",
        "\n",
        "num_classes = 3\n",
        "\n",
        "train_labels = to_categorical(train_generator.classes, num_classes)\n",
        "test_labels = to_categorical(test_generator.classes, num_classes)"
      ]
    },
    {
      "cell_type": "code",
      "execution_count": null,
      "id": "1cf16f26",
      "metadata": {
        "id": "1cf16f26"
      },
      "outputs": [],
      "source": [
        "model = Sequential()\n",
        "model.add(Conv2D(32, (3, 3), activation='relu', input_shape=(img_width, img_height, 3)))\n",
        "model.add(MaxPooling2D((2, 2)))\n",
        "model.add(Conv2D(64, (3, 3), activation='relu'))\n",
        "model.add(MaxPooling2D((2, 2)))\n",
        "model.add(Conv2D(128, (3, 3), activation='relu'))\n",
        "model.add(MaxPooling2D((2, 2)))\n",
        "model.add(Flatten())\n",
        "model.add(Dense(64, activation='relu'))\n",
        "model.add(Dense(3, activation='softmax'))\n",
        "\n",
        "\n",
        "model.compile(optimizer='adam',\n",
        "              loss='categorical_crossentropy',\n",
        "              metrics=['accuracy'])"
      ]
    },
    {
      "cell_type": "code",
      "execution_count": null,
      "id": "b1dabf51",
      "metadata": {
        "id": "b1dabf51"
      },
      "outputs": [],
      "source": [
        "curr = time.time()\n",
        "model.fit(train_generator,\n",
        "          steps_per_epoch=len(train_generator),\n",
        "          epochs=50,\n",
        "          validation_data=test_generator,\n",
        "          validation_steps=len(test_generator))\n",
        "stop=time.time()\n",
        "print(\"time is\",stop-curr)"
      ]
    },
    {
      "cell_type": "code",
      "execution_count": null,
      "id": "a3f05dc4",
      "metadata": {
        "id": "a3f05dc4"
      },
      "outputs": [],
      "source": [
        "from sklearn.metrics import classification_report\n",
        "\n",
        "y_pred = model.predict(test_generator)\n",
        "y_pred_classes = np.argmax(y_pred, axis=1)\n",
        "\n",
        "y_true_classes = test_generator.classes\n",
        "\n",
        "report = classification_report(y_true_classes, y_pred_classes, target_names=test_generator.class_indices)\n",
        "\n",
        "accuracy = np.mean(y_pred_classes == y_true_classes)\n",
        "print(f\"Accuracy: {accuracy*100:.2f}%\")\n",
        "\n",
        "print(\"Classification Report:\")\n",
        "print(report)"
      ]
    }
  ],
  "metadata": {
    "kernelspec": {
      "display_name": "Python 3 (ipykernel)",
      "language": "python",
      "name": "python3"
    },
    "language_info": {
      "codemirror_mode": {
        "name": "ipython",
        "version": 3
      },
      "file_extension": ".py",
      "mimetype": "text/x-python",
      "name": "python",
      "nbconvert_exporter": "python",
      "pygments_lexer": "ipython3",
      "version": "3.9.13"
    },
    "colab": {
      "provenance": []
    }
  },
  "nbformat": 4,
  "nbformat_minor": 5
}